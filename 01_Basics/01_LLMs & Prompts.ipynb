{
 "cells": [
  {
   "attachments": {},
   "cell_type": "markdown",
   "metadata": {},
   "source": [
    "## LLMs & Prompts\n",
    "\n",
    "\n",
    "\n",
    "### LLMs (Large Language Model)\n",
    "\n",
    "\n",
    "\n",
    "In LangChain, the LLM class serves as the foundational component of LangChain, enabling seamless interaction with large language models (LLMs) sourced from a variety of providers. With support for over 13 LLM providers, LangChain also offers the capability to interface with models hosted on your own computing infrastructure.\n",
    "\n",
    "### Prompts \n",
    "\n",
    "\n",
    "To work with Langchain, it is best to understand how Prompts, and Prompt Engineering works. It's our way of interacting with the model(LLMs) to perform different tasks.\n",
    "\n",
    "\n",
    "\n",
    "To utilize LLMs within LangChain, you can generate text by using prompts and the PromptTemplate feature to interact with the LLMs. When crafting prompts, you can either use the Zero-shot or Few-shot approach. LangChain provides methods to do both efficiently and PromptTemplate to write dynamic prompts.\n",
    "\n",
    "This notebook will explain how to work with Prompts in Langchain, create custom PromptTemplates, and interact with different LLM providers\n"
   ]
  },
  {
   "cell_type": "code",
   "execution_count": 1,
   "metadata": {},
   "outputs": [],
   "source": [
    "from langchain import PromptTemplate"
   ]
  },
  {
   "cell_type": "code",
   "execution_count": null,
   "metadata": {},
   "outputs": [],
   "source": []
  }
 ],
 "metadata": {
  "kernelspec": {
   "display_name": "langenv",
   "language": "python",
   "name": "python3"
  },
  "language_info": {
   "codemirror_mode": {
    "name": "ipython",
    "version": 3
   },
   "file_extension": ".py",
   "mimetype": "text/x-python",
   "name": "python",
   "nbconvert_exporter": "python",
   "pygments_lexer": "ipython3",
   "version": "3.9.6"
  },
  "orig_nbformat": 4
 },
 "nbformat": 4,
 "nbformat_minor": 2
}
